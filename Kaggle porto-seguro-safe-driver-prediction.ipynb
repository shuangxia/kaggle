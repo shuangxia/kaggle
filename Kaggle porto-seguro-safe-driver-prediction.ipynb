{
 "cells": [
  {
   "cell_type": "code",
   "execution_count": null,
   "metadata": {
    "_uuid": "dff1c326a6caf9619f7fd5e10049d440e782aa65",
    "collapsed": true
   },
   "outputs": [],
   "source": [
    "#Import libraries:\n",
    "import pandas as pd\n",
    "import numpy as np\n",
    "import seaborn as sns\n",
    "import xgboost as xgb\n",
    "from xgboost.sklearn import XGBClassifier\n",
    "from sklearn import cross_validation, metrics   #Additional scklearn functions\n",
    "from sklearn.grid_search import GridSearchCV   #Perforing grid search\n",
    "\n",
    "import matplotlib.pylab as plt\n",
    "%matplotlib inline\n",
    "from matplotlib.pylab import rcParams\n",
    "rcParams['figure.figsize'] = 12, 4"
   ]
  },
  {
   "cell_type": "code",
   "execution_count": null,
   "metadata": {
    "_uuid": "00195b49e06d6632f75e5de2704d56fe1a30c314"
   },
   "outputs": [],
   "source": [
    "train= pd.read_csv(\"../input/train.csv\", na_values=-1)\n",
    "test = pd.read_csv('../input/test.csv', na_values=-1)"
   ]
  },
  {
   "cell_type": "code",
   "execution_count": null,
   "metadata": {},
   "outputs": [],
   "source": [
    "for c in train.select_dtypes(include=['float64']).columns:\n",
    "    train[c]=train[c].astype(np.float16)\n",
    "    test[c]=test[c].astype(np.float16)\n",
    "for c in train.select_dtypes(include=['int64']).columns[2:]:\n",
    "    train[c]=train[c].astype(np.int8)\n",
    "    test[c]=test[c].astype(np.int8)    "
   ]
  },
  {
   "cell_type": "code",
   "execution_count": null,
   "metadata": {
    "_uuid": "c61a644196c590b3e656f87e4875925331853fc0"
   },
   "outputs": [],
   "source": [
    "positive_size = train[train.target==1].shape[0]"
   ]
  },
  {
   "cell_type": "code",
   "execution_count": null,
   "metadata": {
    "_uuid": "758c433ab9be1b71c12cb053bed6f173ad9dc03b"
   },
   "outputs": [],
   "source": [
    "positive_percentage = positive_size/float(train.shape[0])"
   ]
  },
  {
   "cell_type": "code",
   "execution_count": null,
   "metadata": {
    "_uuid": "92c7df8049c5e28d47afe8ba21170f63103773b2",
    "collapsed": true
   },
   "outputs": [],
   "source": [
    "print(\"%.2f\" % (positive_percentage*100), \"% of the data is labelled as positive.\")"
   ]
  },
  {
   "cell_type": "markdown",
   "metadata": {
    "_uuid": "df9493bb2c0669b2e6ec4d1acbbff6941d997c87"
   },
   "source": [
    "## Missing values"
   ]
  },
  {
   "cell_type": "code",
   "execution_count": null,
   "metadata": {
    "_uuid": "67311d7a37938bb02abf23ed14a731040d93edab"
   },
   "outputs": [],
   "source": [
    "missing_values = train.apply(lambda x: sum(x.isnull())/float(len(x)), axis=0)"
   ]
  },
  {
   "cell_type": "code",
   "execution_count": null,
   "metadata": {
    "_uuid": "a6b1834a1ad342c46c100a993542c760142df70f",
    "collapsed": true
   },
   "outputs": [],
   "source": [
    "print(\"Top 5 Features with most missing values and the percentage:\")\n",
    "print(missing_values.sort_values(ascending=False).head(10))"
   ]
  },
  {
   "cell_type": "code",
   "execution_count": null,
   "metadata": {
    "_uuid": "5d39a52e1a5e75c772870ebc720bec29bab26e4e"
   },
   "outputs": [],
   "source": [
    "train = train.drop(['ps_car_03_cat', 'ps_car_05_cat','id'], axis=1)"
   ]
  },
  {
   "cell_type": "markdown",
   "metadata": {
    "_uuid": "0734341feb522ca2a9e8e7dea5fc8c447b2f0d90",
    "collapsed": true
   },
   "source": [
    "## Visualisation"
   ]
  },
  {
   "cell_type": "code",
   "execution_count": null,
   "metadata": {
    "_uuid": "2edb109632f38ed5dded99df062c506167493e23",
    "collapsed": true
   },
   "outputs": [],
   "source": [
    "ax = sns.countplot(x = train.target.values ,palette=\"Set2\")\n",
    "sns.set(font_scale=1.5)\n",
    "ax.set_xlabel(' ')\n",
    "ax.set_ylabel(' ')\n",
    "fig = plt.gcf()\n",
    "fig.set_size_inches(10,5)\n",
    "ax.set_ylim(top=700000)\n",
    "for p in ax.patches:\n",
    "    ax.annotate('{:.2f}%'.format(100*p.get_height()/len(train)), (p.get_x()+ 0.3, p.get_height()+10000))\n",
    "\n",
    "plt.title('Distribution of 595212 Targets')\n",
    "plt.xlabel('Initiation of Auto Insurance Claim Next Year')\n",
    "plt.ylabel('Frequency [%]')\n",
    "plt.show()"
   ]
  },
  {
   "cell_type": "code",
   "execution_count": null,
   "metadata": {
    "_uuid": "b077d4ba71c69b28b60a4a9e5c772cb46e44a98b",
    "collapsed": true
   },
   "outputs": [],
   "source": [
    "sns.set(style=\"white\")\n",
    "\n",
    "# Compute the correlation matrix\n",
    "corr = train.corr()\n",
    "\n",
    "# Set up the matplotlib figure\n",
    "f, ax = plt.subplots(figsize=(11, 9))\n",
    "\n",
    "# Generate a custom diverging colormap\n",
    "cmap = sns.diverging_palette(220, 10, as_cmap=True)\n",
    "\n",
    "# Draw the heatmap with the mask and correct aspect ratio\n",
    "sns.heatmap(corr, cmap=cmap, vmax=.3, center=0,\n",
    "            square=True, linewidths=.5, cbar_kws={\"shrink\": .5})\n",
    "\n",
    "plt.show()"
   ]
  },
  {
   "cell_type": "code",
   "execution_count": null,
   "metadata": {
    "_uuid": "32abf1c01fd5e7010a7dc09dd55b8193d17907d4",
    "collapsed": true
   },
   "outputs": [],
   "source": [
    "abs(corr.target).sort_values()"
   ]
  },
  {
   "cell_type": "markdown",
   "metadata": {
    "_uuid": "f863217835adeae34009ea89ee1e2d84f7f0021d"
   },
   "source": [
    "## Define Gini metric"
   ]
  },
  {
   "cell_type": "code",
   "execution_count": null,
   "metadata": {
    "_uuid": "9cd0675312302a541cd60a768f775d8f04355a0f"
   },
   "outputs": [],
   "source": [
    "# Define the gini metric - from https://www.kaggle.com/c/ClaimPredictionChallenge/discussion/703#5897\n",
    "def gini(actual, pred, cmpcol = 0, sortcol = 1):\n",
    "    assert( len(actual) == len(pred) )\n",
    "    all = np.asarray(np.c_[ actual, pred, np.arange(len(actual)) ], dtype=np.float)\n",
    "    all = all[ np.lexsort((all[:,2], -1*all[:,1])) ]\n",
    "    totalLosses = all[:,0].sum()\n",
    "    giniSum = all[:,0].cumsum().sum() / totalLosses\n",
    "    \n",
    "    giniSum -= (len(actual) + 1) / 2.\n",
    "    return giniSum / len(actual)\n",
    " \n",
    "def gini_normalized(a, p):\n",
    "    return gini(a, p) / gini(a, a)\n",
    "\n",
    "def gini_xgb(preds, dtrain):\n",
    "    labels = dtrain.get_label()\n",
    "    gini_score = gini_normalized(labels, preds)\n",
    "    return 'gini', gini_score"
   ]
  },
  {
   "cell_type": "markdown",
   "metadata": {
    "_uuid": "3e1f69843dcff9f6157ff1bd168b68e204910549"
   },
   "source": [
    "## Parameters tuning"
   ]
  },
  {
   "cell_type": "code",
   "execution_count": null,
   "metadata": {
    "_uuid": "9c959abc0d867b9bb0eae976fa6b758c3be2ef7f",
    "collapsed": true
   },
   "outputs": [],
   "source": [
    "from sklearn.model_selection import StratifiedKFold\n",
    "import xgboost as xgb"
   ]
  },
  {
   "cell_type": "code",
   "execution_count": null,
   "metadata": {
    "_uuid": "f1d32a0ff9d9a3710a4355170839fbfc647e1f1a"
   },
   "outputs": [],
   "source": [
    "X = train.drop(['target'], axis=1)\n",
    "y = train['target']\n",
    "features = train.drop(['target'], axis=1).columns"
   ]
  },
  {
   "cell_type": "code",
   "execution_count": null,
   "metadata": {
    "_uuid": "62aef8e85d833b94753b0506a842ef5acd13e0eb"
   },
   "outputs": [],
   "source": [
    "kfold = 5\n",
    "skf = StratifiedKFold(n_splits=kfold, shuffle=True, random_state=32)\n",
    "folds = skf.split(X, y)"
   ]
  },
  {
   "cell_type": "code",
   "execution_count": null,
   "metadata": {},
   "outputs": [],
   "source": [
    "xgb_model = xgb.XGBClassifier(\n",
    "    n_estimators=1000,\n",
    "    max_depth=5,\n",
    "    objective= 'binary:logistic',\n",
    "    nthread=5,\n",
    "    scale_pos_weight=24,\n",
    "    seed=27)"
   ]
  },
  {
   "cell_type": "code",
   "execution_count": null,
   "metadata": {},
   "outputs": [],
   "source": [
    "#brute force scan for all parameters, here are the tricks\n",
    "#usually max_depth is 6,7,8\n",
    "#learning rate is around 0.05, but small changes may make big diff\n",
    "#tuning min_child_weight subsample colsample_bytree can have \n",
    "#much fun of fighting against overfit \n",
    "#n_estimators is how many round of boosting\n",
    "#finally, ensemble xgboost with multiple seeds may reduce variance\n",
    "param_grid = {'learning_rate': [0.05], #so called `eta` value\n",
    "              'max_depth': [3, 5, 7, 9],\n",
    "              'min_child_weight': [5, 7, 9],\n",
    "              'gamma':[0],\n",
    "              'subsample': [0.8],\n",
    "              'colsample_bytree': [0.7],\n",
    "             }"
   ]
  },
  {
   "cell_type": "code",
   "execution_count": null,
   "metadata": {
    "collapsed": true
   },
   "outputs": [],
   "source": [
    "clf = GridSearchCV(xgb_model, param_grid, n_jobs=5, \n",
    "                   cv=list(folds), \n",
    "                   scoring='roc_auc',\n",
    "                   verbose=2, refit=True)\n",
    "\n",
    "clf.fit(X, y)"
   ]
  },
  {
   "cell_type": "code",
   "execution_count": null,
   "metadata": {
    "collapsed": true
   },
   "outputs": [],
   "source": [
    "#trust your CV!\n",
    "print(clf.grid_scores_)\n",
    "print(clf.best_params_)\n",
    "print(clf.best_score_)\n",
    "best_parameters, score, _ = max(clf.grid_scores_, key=lambda x: x[1])\n",
    "print('Raw AUC score:', score)\n",
    "for param_name in sorted(best_parameters.keys()):\n",
    "    print(\"%s: %r\" % (param_name, best_parameters[param_name]))\n",
    "\n",
    "test_probs = clf.predict_proba(test[features])[:,1]"
   ]
  },
  {
   "cell_type": "code",
   "execution_count": null,
   "metadata": {
    "collapsed": true
   },
   "outputs": [],
   "source": [
    "modelfit(default_params, X, y, folds=folds, num_round=1000)"
   ]
  },
  {
   "cell_type": "markdown",
   "metadata": {},
   "source": [
    "## Model fitting"
   ]
  },
  {
   "cell_type": "code",
   "execution_count": null,
   "metadata": {
    "_uuid": "7c2e7523dce4c38bb49e2710cca2ad812b0cd335"
   },
   "outputs": [],
   "source": [
    "params = {\n",
    "    'eval_metric': 'auc',\n",
    "    'min_child_weight': 10.0,\n",
    "    'objective': 'binary:logistic',\n",
    "    'max_depth': 7,\n",
    "    'max_delta_step': 1.8,\n",
    "    'colsample_bytree': 0.4,\n",
    "    'subsample': 0.8,\n",
    "    'eta': 0.025,\n",
    "    'gamma': 0.65,\n",
    "    'num_boost_round' : 700\n",
    "    }"
   ]
  },
  {
   "cell_type": "code",
   "execution_count": null,
   "metadata": {},
   "outputs": [],
   "source": [
    "sub=test['id'].to_frame()\n",
    "sub['target']=0"
   ]
  },
  {
   "cell_type": "code",
   "execution_count": null,
   "metadata": {},
   "outputs": [],
   "source": [
    "import gc"
   ]
  },
  {
   "cell_type": "code",
   "execution_count": null,
   "metadata": {
    "collapsed": true
   },
   "outputs": [],
   "source": [
    "for i, (train_indices, test_indices) in enumerate(skf.split(X, y)):\n",
    "    print(test_indices[20:30])"
   ]
  },
  {
   "cell_type": "code",
   "execution_count": null,
   "metadata": {
    "_uuid": "aa44be353e90c44d7f6d0c746d3ff7a491fb3ab9",
    "collapsed": true
   },
   "outputs": [],
   "source": [
    "for i, (train_indices, test_indices) in enumerate(skf.split(X, y)):\n",
    "    X_train, X_test = X[train_indices], X[test_indices]\n",
    "    y_train, y_test = y[train_indices], y[test_indices]\n",
    "    d_train = xgb.DMatrix(X_train, y_train)\n",
    "    d_test = xgb.DMatrix(X_test, y_test)\n",
    "    watchlist = [(d_train, 'train'), (d_test, 'valid')]\n",
    "    xgb_model = xgb.train(params, d_train, 1600, watchlist, early_stopping_rounds=70, \n",
    "                    feval=gini_xgb, maximize=True, verbose_eval=100)\n",
    "    sub['target'] += xgb_model.predict(xgb.DMatrix(test[features].values), \n",
    "                        ntree_limit=xgb_model.best_ntree_limit+50) / kfold\n",
    "    print('Fold %d out of %d training completed.' % (i + 1, kfold))\n",
    "    gc.collect()"
   ]
  },
  {
   "cell_type": "code",
   "execution_count": null,
   "metadata": {
    "_uuid": "6367bd8822a61500aa5d7e0801099268288ee54e",
    "collapsed": true
   },
   "outputs": [],
   "source": [
    "sub"
   ]
  },
  {
   "cell_type": "code",
   "execution_count": null,
   "metadata": {},
   "outputs": [],
   "source": [
    "sub.to_csv('submit_result.csv', index=None)"
   ]
  },
  {
   "cell_type": "code",
   "execution_count": null,
   "metadata": {},
   "outputs": [],
   "source": []
  }
 ],
 "metadata": {
  "anaconda-cloud": {},
  "kernelspec": {
   "display_name": "Python 3",
   "language": "python",
   "name": "python3"
  },
  "language_info": {
   "codemirror_mode": {
    "name": "ipython",
    "version": 3
   },
   "file_extension": ".py",
   "mimetype": "text/x-python",
   "name": "python",
   "nbconvert_exporter": "python",
   "pygments_lexer": "ipython3",
   "version": "3.6.0"
  }
 },
 "nbformat": 4,
 "nbformat_minor": 1
}
