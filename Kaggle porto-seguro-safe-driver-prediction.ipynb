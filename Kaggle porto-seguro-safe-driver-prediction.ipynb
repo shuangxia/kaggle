{
 "cells": [
  {
   "cell_type": "code",
   "execution_count": 1,
   "metadata": {
    "collapsed": true
   },
   "outputs": [],
   "source": [
    "import pandas as pd"
   ]
  },
  {
   "cell_type": "code",
   "execution_count": 2,
   "metadata": {
    "collapsed": true
   },
   "outputs": [],
   "source": [
    "train= pd.read_csv(\"train.csv\")"
   ]
  },
  {
   "cell_type": "code",
   "execution_count": 15,
   "metadata": {
    "collapsed": true
   },
   "outputs": [],
   "source": [
    "positive_size = train[train.target==1].shape[0]"
   ]
  },
  {
   "cell_type": "code",
   "execution_count": 17,
   "metadata": {
    "collapsed": false
   },
   "outputs": [],
   "source": [
    "positive_percentage = positive_size/float(train.shape[0])"
   ]
  },
  {
   "cell_type": "code",
   "execution_count": 25,
   "metadata": {
    "collapsed": false
   },
   "outputs": [
    {
     "name": "stdout",
     "output_type": "stream",
     "text": [
      "3.64 % of the data is labelled as positive.\n"
     ]
    }
   ],
   "source": [
    "print \"%.2f\" % (positive_percentage*100), \"% of the data is labelled as positive.\""
   ]
  },
  {
   "cell_type": "markdown",
   "metadata": {},
   "source": [
    "## Missing values"
   ]
  },
  {
   "cell_type": "code",
   "execution_count": 11,
   "metadata": {
    "collapsed": false
   },
   "outputs": [],
   "source": [
    "missing_values = train.apply(lambda x: len(x[x==-1])/float(len(x)), axis=0)"
   ]
  },
  {
   "cell_type": "code",
   "execution_count": 14,
   "metadata": {
    "collapsed": false
   },
   "outputs": [
    {
     "data": {
      "text/plain": [
       "ps_car_03_cat     0.690898\n",
       "ps_car_05_cat     0.447825\n",
       "ps_reg_03         0.181065\n",
       "ps_car_14         0.071605\n",
       "ps_car_07_cat     0.019302\n",
       "ps_ind_05_cat     0.009760\n",
       "ps_car_09_cat     0.000956\n",
       "ps_ind_02_cat     0.000363\n",
       "ps_car_01_cat     0.000180\n",
       "ps_ind_04_cat     0.000139\n",
       "ps_car_02_cat     0.000008\n",
       "ps_car_11         0.000008\n",
       "ps_car_12         0.000002\n",
       "ps_ind_03         0.000000\n",
       "ps_ind_18_bin     0.000000\n",
       "target            0.000000\n",
       "ps_ind_01         0.000000\n",
       "ps_reg_02         0.000000\n",
       "ps_reg_01         0.000000\n",
       "ps_ind_16_bin     0.000000\n",
       "ps_ind_17_bin     0.000000\n",
       "ps_ind_15         0.000000\n",
       "ps_car_04_cat     0.000000\n",
       "ps_ind_13_bin     0.000000\n",
       "ps_ind_12_bin     0.000000\n",
       "ps_ind_11_bin     0.000000\n",
       "ps_ind_10_bin     0.000000\n",
       "ps_ind_09_bin     0.000000\n",
       "ps_ind_08_bin     0.000000\n",
       "ps_ind_07_bin     0.000000\n",
       "ps_ind_06_bin     0.000000\n",
       "ps_ind_14         0.000000\n",
       "ps_calc_20_bin    0.000000\n",
       "ps_car_06_cat     0.000000\n",
       "ps_calc_19_bin    0.000000\n",
       "ps_calc_18_bin    0.000000\n",
       "ps_calc_17_bin    0.000000\n",
       "ps_calc_16_bin    0.000000\n",
       "ps_calc_15_bin    0.000000\n",
       "ps_calc_14        0.000000\n",
       "ps_calc_13        0.000000\n",
       "ps_calc_12        0.000000\n",
       "ps_calc_11        0.000000\n",
       "ps_calc_10        0.000000\n",
       "ps_calc_09        0.000000\n",
       "ps_calc_08        0.000000\n",
       "ps_calc_07        0.000000\n",
       "ps_calc_06        0.000000\n",
       "ps_calc_05        0.000000\n",
       "ps_calc_04        0.000000\n",
       "ps_calc_03        0.000000\n",
       "ps_calc_02        0.000000\n",
       "ps_calc_01        0.000000\n",
       "ps_car_15         0.000000\n",
       "ps_car_13         0.000000\n",
       "ps_car_11_cat     0.000000\n",
       "ps_car_10_cat     0.000000\n",
       "ps_car_08_cat     0.000000\n",
       "id                0.000000\n",
       "dtype: float64"
      ]
     },
     "execution_count": 14,
     "metadata": {},
     "output_type": "execute_result"
    }
   ],
   "source": [
    "missing_values.sort_values(ascending=False)"
   ]
  },
  {
   "cell_type": "code",
   "execution_count": null,
   "metadata": {
    "collapsed": true
   },
   "outputs": [],
   "source": []
  }
 ],
 "metadata": {
  "anaconda-cloud": {},
  "kernelspec": {
   "display_name": "Python [default]",
   "language": "python",
   "name": "python3"
  },
  "language_info": {
   "codemirror_mode": {
    "name": "ipython",
    "version": 3
   },
   "file_extension": ".py",
   "mimetype": "text/x-python",
   "name": "python",
   "nbconvert_exporter": "python",
   "pygments_lexer": "ipython3",
   "version": "3.5.2"
  }
 },
 "nbformat": 4,
 "nbformat_minor": 1
}
